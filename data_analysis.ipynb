{
 "cells": [
  {
   "cell_type": "code",
   "execution_count": 65,
   "metadata": {},
   "outputs": [],
   "source": [
    "import numpy as np\n",
    "import matplotlib.pyplot as plt\n",
    "import pretty_midi\n",
    "import pypianoroll\n",
    "import mido\n",
    "\n",
    "from tiv import *"
   ]
  },
  {
   "cell_type": "code",
   "execution_count": 112,
   "metadata": {},
   "outputs": [],
   "source": [
    "bar8_cp_np = np.load('data/bar8_cp_np.npy')\n",
    "bar8_cp_wq_np = np.load('data/bar8_cp_with_quality_np.npy')"
   ]
  },
  {
   "cell_type": "code",
   "execution_count": 43,
   "metadata": {},
   "outputs": [],
   "source": [
    "complexity = bar8_cp_wq_np.sum(2)"
   ]
  },
  {
   "cell_type": "code",
   "execution_count": 63,
   "metadata": {},
   "outputs": [],
   "source": [
    "diff = (bar8_cp_np - bar8_cp_wq_np).sum(2)"
   ]
  },
  {
   "cell_type": "code",
   "execution_count": 64,
   "metadata": {},
   "outputs": [
    {
     "data": {
      "text/plain": [
       "45143.0"
      ]
     },
     "execution_count": 64,
     "metadata": {},
     "output_type": "execute_result"
    }
   ],
   "source": [
    "diff.shape"
   ]
  },
  {
   "cell_type": "code",
   "execution_count": 61,
   "metadata": {},
   "outputs": [],
   "source": [
    "cd = diff.reshape(-1)"
   ]
  },
  {
   "cell_type": "code",
   "execution_count": 62,
   "metadata": {},
   "outputs": [
    {
     "data": {
      "text/plain": [
       "(array([168225.,      0.,      0.,  39322.,      0.,      0.,   1394.,\n",
       "             0.,      0.,   1011.]),\n",
       " array([0. , 0.3, 0.6, 0.9, 1.2, 1.5, 1.8, 2.1, 2.4, 2.7, 3. ]),\n",
       " <a list of 10 Patch objects>)"
      ]
     },
     "execution_count": 62,
     "metadata": {},
     "output_type": "execute_result"
    },
    {
     "data": {
      "image/png": "[encoded data removed]",
      "text/plain": [
       "<Figure size 432x288 with 1 Axes>"
      ]
     },
     "metadata": {
      "needs_background": "light"
     },
     "output_type": "display_data"
    }
   ],
   "source": [
    "plt.hist(cd)"
   ]
  },
  {
   "cell_type": "code",
   "execution_count": 113,
   "metadata": {},
   "outputs": [],
   "source": [
    "x0 = bar8_cp_np[0]"
   ]
  },
  {
   "cell_type": "code",
   "execution_count": 73,
   "metadata": {},
   "outputs": [],
   "source": [
    "tiv_x0 = TIV.from_pcp(x0)"
   ]
  },
  {
   "cell_type": "code",
   "execution_count": 75,
   "metadata": {
    "collapsed": true,
    "jupyter": {
     "outputs_hidden": true
    }
   },
   "outputs": [
    {
     "data": {
      "image/png": "[encoded data removed]",
      "text/plain": [
       "<Figure size 432x288 with 6 Axes>"
      ]
     },
     "metadata": {
      "needs_background": "light"
     },
     "output_type": "display_data"
    }
   ],
   "source": [
    "tiv_x0.plot_tiv()"
   ]
  },
  {
   "cell_type": "code",
   "execution_count": 76,
   "metadata": {},
   "outputs": [
    {
     "data": {
      "text/plain": [
       "array([5.49038106e-01, 2.22044605e-16, 5.75000000e+00, 7.50000000e+00,\n",
       "       9.90368418e+00, 0.00000000e+00])"
      ]
     },
     "execution_count": 76,
     "metadata": {},
     "output_type": "execute_result"
    }
   ],
   "source": [
    "tiv_x0.mags()"
   ]
  },
  {
   "cell_type": "code",
   "execution_count": 77,
   "metadata": {},
   "outputs": [
    {
     "data": {
      "text/plain": [
       "array([ 0.52359878,  0.        ,  1.57079633, -1.04719755, -0.52359878,\n",
       "        0.        ])"
      ]
     },
     "execution_count": 77,
     "metadata": {},
     "output_type": "execute_result"
    }
   ],
   "source": [
    "tiv_x0.phases()"
   ]
  },
  {
   "cell_type": "code",
   "execution_count": 118,
   "metadata": {},
   "outputs": [],
   "source": [
    "def get_tiv_polar(chroma):\n",
    "    '''\n",
    "    input: 12 dims chroma\n",
    "    return: 12 dims TIV in polar coordinate, first 6 dims--mags, last 6 dims-- phases\n",
    "    '''\n",
    "    tiv = TIV.from_pcp(chroma)\n",
    "    tiv_polar = np.concatenate((tiv.mags(), tiv.phases()))\n",
    "    \n",
    "    return tiv_polar\n",
    "\n",
    "def get_tiv_polar_list(chroma_list):\n",
    "    tiv_list = chroma_list.copy()\n",
    "    for i in range(chroma_list.shape[0]):\n",
    "        tiv_list[i][:] = get_tiv_polar(chroma_list[i][:])\n",
    "    return tiv_list\n",
    "\n",
    "def chroma2tiv_np(chroma_chunk):\n",
    "    tiv_chunk = chroma_chunk.copy()\n",
    "    for i in range(chroma_chunk.shape[0]):\n",
    "        tiv_chunk[i] = get_tiv_polar_list(chroma_chunk[i])\n",
    "    return tiv_chunk"
   ]
  },
  {
   "cell_type": "code",
   "execution_count": 122,
   "metadata": {},
   "outputs": [],
   "source": [
    "bar8_cp_tiv_np = chroma2tiv_np(bar8_cp_np)\n",
    "bar8_cp_wq_tiv_np = chroma2tiv_np(bar8_cp_wq_np)"
   ]
  },
  {
   "cell_type": "code",
   "execution_count": 123,
   "metadata": {},
   "outputs": [],
   "source": [
    "np.save('bar8_cp_tiv_np.npy', bar8_cp_tiv_np)\n",
    "np.save('bar8_cp_wq_tiv_np.npy', bar8_cp_wq_tiv_np)"
   ]
  },
  {
   "cell_type": "code",
   "execution_count": 115,
   "metadata": {},
   "outputs": [
    {
     "data": {
      "text/plain": [
       "array([ 5.49038106e-01,  2.22044605e-16,  5.75000000e+00,  7.50000000e+00,\n",
       "        9.90368418e+00,  0.00000000e+00,  5.23598776e-01,  0.00000000e+00,\n",
       "        1.57079633e+00, -1.04719755e+00, -5.23598776e-01,  0.00000000e+00])"
      ]
     },
     "execution_count": 115,
     "metadata": {},
     "output_type": "execute_result"
    }
   ],
   "source": [
    "get_tiv_polar(x0[0])"
   ]
  },
  {
   "cell_type": "code",
   "execution_count": 114,
   "metadata": {},
   "outputs": [
    {
     "data": {
      "text/plain": [
       "array([1., 0., 0., 1., 0., 0., 0., 1., 0., 0., 1., 0.])"
      ]
     },
     "execution_count": 114,
     "metadata": {},
     "output_type": "execute_result"
    }
   ],
   "source": [
    "x0[0]"
   ]
  },
  {
   "cell_type": "code",
   "execution_count": null,
   "metadata": {},
   "outputs": [],
   "source": []
  }
 ],
 "metadata": {
  "kernelspec": {
   "display_name": "Python 3",
   "language": "python",
   "name": "python3"
  },
  "language_info": {
   "codemirror_mode": {
    "name": "ipython",
    "version": 3
   },
   "file_extension": ".py",
   "mimetype": "text/x-python",
   "name": "python",
   "nbconvert_exporter": "python",
   "pygments_lexer": "ipython3",
   "version": "3.7.4"
  }
 },
 "nbformat": 4,
 "nbformat_minor": 4
}
